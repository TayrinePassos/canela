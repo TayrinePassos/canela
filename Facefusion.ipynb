{
  "cells": [
    {
      "cell_type": "markdown",
      "metadata": {
        "id": "view-in-github",
        "colab_type": "text"
      },
      "source": [
        "<a href=\"https://colab.research.google.com/github/TayrinePassos/canela/blob/main/Facefusion.ipynb\" target=\"_parent\"><img src=\"https://colab.research.google.com/assets/colab-badge.svg\" alt=\"Open In Colab\"/></a>"
      ]
    },
    {
      "cell_type": "code",
      "execution_count": null,
      "metadata": {
        "colab": {
          "base_uri": "https://localhost:8080/"
        },
        "id": "XaqO7feu9sAw",
        "outputId": "3a10719e-019f-4b10-d6f7-1a087912a915"
      },
      "outputs": [
        {
          "output_type": "stream",
          "name": "stdout",
          "text": [
            "Installed!\n"
          ]
        }
      ],
      "source": [
        "from IPython.display import clear_output\n",
        "import codecs\n",
        "import torch\n",
        "\n",
        "if torch.cuda.is_available():\n",
        "  device=\"cuda\"\n",
        "  !apt-get install nvidia-cuda-toolkit\n",
        "  print(\"Using GPU\")\n",
        "else:\n",
        "  device=\"cpu\"\n",
        "  print(\"Using CPU\")\n",
        "\n",
        "giturl = codecs.decode('uggcf://tvguho.pbz/Mnpulfnhef/snprshfvba.tvg','rot_13')\n",
        "gitdir = codecs.decode('snprshfvba','rot_13')\n",
        "!git clone {giturl}\n",
        "%cd /content/{gitdir}\n",
        "!python install.py --onnxruntime cuda-11.8 --skip-conda\n",
        "\n",
        "clear_output()\n",
        "print(\"Installed!\")"
      ]
    },
    {
      "cell_type": "code",
      "execution_count": null,
      "metadata": {
        "colab": {
          "base_uri": "https://localhost:8080/"
        },
        "id": "996UKUjT-BEu",
        "outputId": "4d22e5b0-3862-4b01-d691-379bf7893849"
      },
      "outputs": [
        {
          "output_type": "stream",
          "name": "stdout",
          "text": [
            "/content/facefusion\n",
            "Downloading: 100% 22.5M/22.5M [00:00<00:00, 41.5MB/s]\n",
            "Downloading: 100% 93.4M/93.4M [00:00<00:00, 116MB/s]\n",
            "Downloading: 100% 922k/922k [00:00<00:00, 2.02MB/s]\n",
            "Downloading: 100% 1.26M/1.26M [00:00<00:00, 2.93MB/s]\n",
            "Downloading: 100% 12.1M/12.1M [00:00<00:00, 25.4MB/s]\n",
            "Downloading: 100% 166M/166M [00:01<00:00, 89.5MB/s]\n",
            "Downloading: 100% 67.1M/67.1M [00:00<00:00, 90.9MB/s]\n",
            "Downloading: 100% 50.7M/50.7M [00:00<00:00, 80.4MB/s]\n",
            "Downloading: 100% 63.7M/63.7M [00:00<00:00, 99.1MB/s]\n",
            "Downloading: 100% 265M/265M [00:01<00:00, 160MB/s]\n",
            "IMPORTANT: You are using gradio version 3.50.2, however version 4.29.0 is available, please upgrade.\n",
            "--------\n",
            "IMPORTANT: You are using gradio version 3.50.2, however version 4.29.0 is available, please upgrade.\n",
            "--------\n",
            "IMPORTANT: You are using gradio version 3.50.2, however version 4.29.0 is available, please upgrade.\n",
            "--------\n",
            "IMPORTANT: You are using gradio version 3.50.2, however version 4.29.0 is available, please upgrade.\n",
            "--------\n",
            "IMPORTANT: You are using gradio version 3.50.2, however version 4.29.0 is available, please upgrade.\n",
            "--------\n",
            "IMPORTANT: You are using gradio version 3.50.2, however version 4.29.0 is available, please upgrade.\n",
            "--------\n",
            "IMPORTANT: You are using gradio version 3.50.2, however version 4.29.0 is available, please upgrade.\n",
            "--------\n",
            "IMPORTANT: You are using gradio version 3.50.2, however version 4.29.0 is available, please upgrade.\n",
            "--------\n",
            "IMPORTANT: You are using gradio version 3.50.2, however version 4.29.0 is available, please upgrade.\n",
            "--------\n",
            "IMPORTANT: You are using gradio version 3.50.2, however version 4.29.0 is available, please upgrade.\n",
            "--------\n",
            "IMPORTANT: You are using gradio version 3.50.2, however version 4.29.0 is available, please upgrade.\n",
            "--------\n",
            "IMPORTANT: You are using gradio version 3.50.2, however version 4.29.0 is available, please upgrade.\n",
            "--------\n",
            "IMPORTANT: You are using gradio version 3.50.2, however version 4.29.0 is available, please upgrade.\n",
            "--------\n",
            "IMPORTANT: You are using gradio version 3.50.2, however version 4.29.0 is available, please upgrade.\n",
            "--------\n",
            "IMPORTANT: You are using gradio version 3.50.2, however version 4.29.0 is available, please upgrade.\n",
            "--------\n",
            "IMPORTANT: You are using gradio version 3.50.2, however version 4.29.0 is available, please upgrade.\n",
            "--------\n",
            "IMPORTANT: You are using gradio version 3.50.2, however version 4.29.0 is available, please upgrade.\n",
            "--------\n",
            "IMPORTANT: You are using gradio version 3.50.2, however version 4.29.0 is available, please upgrade.\n",
            "--------\n",
            "Running on local URL:  http://127.0.0.1:7860\n",
            "Running on public URL: https://6174d0abf5c0ef285e.gradio.live\n",
            "Downloading: 100% 138M/138M [00:01<00:00, 130MB/s]\n",
            "Downloading: 100% 324M/324M [00:02<00:00, 167MB/s]\n",
            "Analysing: 100% 3720/3720 [00:30<00:00, 121.70frame/s, rate=0]\n",
            "[FACEFUSION.CORE] Extracting frames with a resolution of 1280x720 and 30.0 frames per second\n",
            "[FACEFUSION.PROCESSORS.FRAME.MODULES.LIP_SYNCER] Processing\n",
            "Processing: 100% 3720/3720 [09:42<00:00,  6.39frame/s, execution_providers=['cuda', 'cpu'], execution_thread_count=4, execution_queue_count=1]\n",
            "[FACEFUSION.PROCESSORS.FRAME.MODULES.FACE_ENHANCER] Processing\n",
            "Processing: 100% 3720/3720 [13:40<00:00,  4.53frame/s, execution_providers=['cuda', 'cpu'], execution_thread_count=4, execution_queue_count=1]\n",
            "[FACEFUSION.CORE] Merging video with a resolution of 1280x720 and 30.0 frames per second\n",
            "[FACEFUSION.CORE] Processing to video succeed in 2070.85 seconds\n"
          ]
        }
      ],
      "source": [
        "import codecs\n",
        "gitdir = codecs.decode('snprshfvba','rot_13')\n",
        "%cd /content/{gitdir}\n",
        "\n",
        "if device==\"cuda\":\n",
        "  !python run.py --execution-providers cpu cuda\n",
        "else:\n",
        "  !python run.py --execution-providers cpu"
      ]
    }
  ],
  "metadata": {
    "accelerator": "GPU",
    "colab": {
      "gpuType": "T4",
      "provenance": [],
      "include_colab_link": true
    },
    "kernelspec": {
      "display_name": "Python 3",
      "name": "python3"
    },
    "language_info": {
      "name": "python"
    }
  },
  "nbformat": 4,
  "nbformat_minor": 0
}